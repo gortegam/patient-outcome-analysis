{
 "cells": [
  {
   "cell_type": "markdown",
   "id": "e289248e",
   "metadata": {},
   "source": [
    "# 🏥 Patient Outcome Analysis\n",
    "\n",
    "This notebook explores hospital patient data to uncover patterns in patient outcomes such as length of stay, readmission, and discharge status."
   ]
  },
  {
   "cell_type": "markdown",
   "id": "279ca5de",
   "metadata": {},
   "source": [
    "## 🔍 1. Import Libraries and Load Data"
   ]
  },
  {
   "cell_type": "code",
   "execution_count": null,
   "id": "1588d186",
   "metadata": {},
   "outputs": [],
   "source": [
    "import pandas as pd\n",
    "import matplotlib.pyplot as plt\n",
    "import seaborn as sns\n",
    "import seaborn.objects as so\n",
    "import numpy as np\n",
    "\n",
    "sns.set(style='whitegrid')\n",
    "\n",
    "# Load the dataset\n",
    "df = pd.read_csv('../data/hospital_data.csv')\n",
    "df.head()"
   ]
  },
  {
   "cell_type": "markdown",
   "id": "bc8faae0",
   "metadata": {},
   "source": [
    "## 📊 2. Initial Data Exploration"
   ]
  },
  {
   "cell_type": "code",
   "execution_count": null,
   "id": "5fde2549",
   "metadata": {},
   "outputs": [],
   "source": [
    "# Basic structure\n",
    "df.info()"
   ]
  },
  {
   "cell_type": "code",
   "execution_count": null,
   "id": "51d0079d",
   "metadata": {},
   "outputs": [],
   "source": [
    "# Summary statistics\n",
    "df.describe(include='all')"
   ]
  },
  {
   "cell_type": "code",
   "execution_count": null,
   "id": "3056f001",
   "metadata": {},
   "outputs": [],
   "source": [
    "# Check for missing values\n",
    "df.isnull().sum()"
   ]
  },
  {
   "cell_type": "markdown",
   "id": "50ab5c32",
   "metadata": {},
   "source": [
    "## 📌 3. Outcome Distribution"
   ]
  },
  {
   "cell_type": "code",
   "execution_count": null,
   "id": "007f6933",
   "metadata": {},
   "outputs": [],
   "source": [
    "sns.countplot(data=df, x='Outcome')\n",
    "plt.title('Distribution of Patient Outcomes')\n",
    "plt.xticks(rotation=45)\n",
    "plt.show()"
   ]
  },
  {
   "cell_type": "code",
   "execution_count": null,
   "id": "865a544d",
   "metadata": {},
   "outputs": [],
   "source": [
    "df['Outcome'].value_counts(normalize=True)"
   ]
  },
  {
   "cell_type": "markdown",
   "id": "3004a22e",
   "metadata": {},
   "source": [
    "## 🧬 4. Outcome by Age, Gender, and Diagnosis"
   ]
  },
  {
   "cell_type": "code",
   "execution_count": null,
   "id": "dbdea18b",
   "metadata": {},
   "outputs": [],
   "source": [
    "sns.boxplot(data=df, x='Outcome', y='Age')\n",
    "plt.title('Age Distribution by Outcome')\n",
    "plt.xticks(rotation=45)\n",
    "plt.show()"
   ]
  },
  {
   "cell_type": "code",
   "execution_count": null,
   "id": "563347a0",
   "metadata": {},
   "outputs": [],
   "source": [
    "sns.countplot(data=df, x='Gender', hue='Outcome')\n",
    "plt.title('Outcome Distribution by Gender')\n",
    "plt.show()"
   ]
  },
  {
   "cell_type": "code",
   "execution_count": null,
   "id": "206805de",
   "metadata": {},
   "outputs": [],
   "source": [
    "plt.figure(figsize=(12,6))\n",
    "sns.countplot(data=df, x='Diagnosis', hue='Outcome')\n",
    "plt.title('Outcome by Diagnosis')\n",
    "plt.xticks(rotation=90)\n",
    "plt.show()"
   ]
  },
  {
   "cell_type": "markdown",
   "id": "5389ca79",
   "metadata": {},
   "source": [
    "## 🏨 5. Length of Stay (LOS)"
   ]
  },
  {
   "cell_type": "code",
   "execution_count": null,
   "id": "66718d64",
   "metadata": {},
   "outputs": [],
   "source": [
    "sns.histplot(df['Length_of_Stay'], kde=True, bins=20)\n",
    "plt.title('Length of Stay Distribution')\n",
    "plt.xlabel('Days')\n",
    "plt.show()"
   ]
  },
  {
   "cell_type": "code",
   "execution_count": null,
   "id": "8e556d1d",
   "metadata": {},
   "outputs": [],
   "source": [
    "plt.figure(figsize=(12,6))\n",
    "sns.boxplot(data=df, x='Diagnosis', y='Length_of_Stay')\n",
    "plt.title('Length of Stay by Diagnosis')\n",
    "plt.xticks(rotation=90)\n",
    "plt.show()"
   ]
  },
  {
   "cell_type": "markdown",
   "id": "50d587ce",
   "metadata": {},
   "source": [
    "## 🔁 6. Readmission Analysis"
   ]
  },
  {
   "cell_type": "code",
   "execution_count": null,
   "id": "69f56820",
   "metadata": {},
   "outputs": [],
   "source": [
    "readmitted = df[df['Outcome'].str.contains('Readmitted', case=False, na=False)]\n",
    "readmitted.groupby('Diagnosis').size().sort_values(ascending=False).head(10)"
   ]
  },
  {
   "cell_type": "code",
   "execution_count": null,
   "id": "9c364ce0",
   "metadata": {},
   "outputs": [],
   "source": [
    "sns.countplot(data=readmitted, x='Gender')\n",
    "plt.title('Gender of Readmitted Patients')\n",
    "plt.show()"
   ]
  },
  {
   "cell_type": "code",
   "execution_count": null,
   "id": "6385c8f1",
   "metadata": {},
   "outputs": [],
   "source": [
    "sns.boxplot(data=readmitted, x='Diagnosis', y='Age')\n",
    "plt.title('Age of Readmitted Patients by Diagnosis')\n",
    "plt.xticks(rotation=90)\n",
    "plt.show()"
   ]
  },
  {
   "cell_type": "markdown",
   "id": "8f7cac2b",
   "metadata": {},
   "source": [
    "## ✅ Summary of Insights\n",
    "- **Most common outcome**: Discharged home\n",
    "- **Age trends**: Older patients more likely to be readmitted\n",
    "- **Gender differences**: Slightly more female patients readmitted\n",
    "- **Length of stay**: Varies by diagnosis; some conditions significantly increase LOS\n",
    "- **Readmission risks**: Concentrated in certain diagnoses (e.g. chronic illnesses)\n",
    "\n",
    "---\n",
    "\n",
    "🧠 *Next steps could include modeling readmission risk using logistic regression or decision trees.*"
   ]
  }
 ],
 "metadata": {},
 "nbformat": 4,
 "nbformat_minor": 5
}
