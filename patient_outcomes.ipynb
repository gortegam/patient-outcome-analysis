{
 "cells": [
  {
   "cell_type": "markdown",
   "id": "6cba3703",
   "metadata": {},
   "source": [
    "# 🏥 Patient Outcome Analysis\n",
    "\n",
    "This notebook explores hospital patient data to uncover patterns in patient outcomes such as length of stay, readmission, and discharge status."
   ]
  },
  {
   "cell_type": "code",
   "execution_count": null,
   "id": "b1e855c2",
   "metadata": {},
   "outputs": [],
   "source": [
    "# Import libraries\n",
    "import pandas as pd\n",
    "import matplotlib.pyplot as plt\n",
    "import seaborn as sns"
   ]
  },
  {
   "cell_type": "code",
   "execution_count": null,
   "id": "ce8c1cc3",
   "metadata": {},
   "outputs": [],
   "source": [
    "# Load the data\n",
    "df = pd.read_csv('../data/hospital_data.csv')\n",
    "df.head()"
   ]
  },
  {
   "cell_type": "code",
   "execution_count": null,
   "id": "220d5390",
   "metadata": {},
   "outputs": [],
   "source": [
    "# Basic info and data types\n",
    "df.info()"
   ]
  },
  {
   "cell_type": "code",
   "execution_count": null,
   "id": "c2b1f30d",
   "metadata": {},
   "outputs": [],
   "source": [
    "# Summary statistics\n",
    "df.describe()"
   ]
  },
  {
   "cell_type": "code",
   "execution_count": null,
   "id": "e75bf582",
   "metadata": {},
   "outputs": [],
   "source": [
    "# Count of outcomes\n",
    "sns.countplot(data=df, x='Outcome')\n",
    "plt.title('Patient Outcomes')\n",
    "plt.show()"
   ]
  },
  {
   "cell_type": "code",
   "execution_count": null,
   "id": "840fca64",
   "metadata": {},
   "outputs": [],
   "source": [
    "# Length of stay by diagnosis\n",
    "sns.boxplot(data=df, x='Diagnosis', y='Length_of_Stay')\n",
    "plt.title('Length of Stay by Diagnosis')\n",
    "plt.xticks(rotation=45)\n",
    "plt.show()"
   ]
  },
  {
   "cell_type": "markdown",
   "id": "892e75c9",
   "metadata": {},
   "source": [
    "### Next Steps\n",
    "- Group by diagnosis and outcome for deeper insights\n",
    "- Explore readmission rates by age or gender\n",
    "- Model readmission likelihood"
   ]
  }
 ],
 "metadata": {},
 "nbformat": 4,
 "nbformat_minor": 5
}
